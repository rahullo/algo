{
 "cells": [
  {
   "cell_type": "code",
   "execution_count": 2,
   "id": "544e5199-b36d-4e16-86be-9f8f9ee367f2",
   "metadata": {},
   "outputs": [
    {
     "name": "stdout",
     "output_type": "stream",
     "text": [
      "Matrix A:\n",
      "[[4 1]\n",
      " [2 3]]\n",
      "\n",
      "Dominant Eigenvalue: 4.999999999947624\n",
      "Corresponding Eigenvector: [0.70710678 0.70710678]\n",
      "\n",
      "Verification (A * eigenvector - eigenvalue * eigenvector):\n",
      "[ 1.11106235e-10 -1.11107124e-10]\n"
     ]
    }
   ],
   "source": [
    "import numpy as np\n",
    "\n",
    "# Function to compute the eigenvalue and eigenvector using Power Iteration\n",
    "def compute_eigenvalue_and_eigenvector(matrix, num_iterations=1000, tolerance=1e-10):\n",
    "    \"\"\"\n",
    "    Computes the dominant eigenvalue and eigenvector of a square matrix using Power Iteration.\n",
    "    \n",
    "    Args:\n",
    "    - matrix: A square matrix (2D NumPy array).\n",
    "    - num_iterations: Maximum number of iterations.\n",
    "    - tolerance: Convergence threshold for eigenvalue changes.\n",
    "    \n",
    "    Returns:\n",
    "    - eigenvalue: Dominant eigenvalue.\n",
    "    - eigenvector: Corresponding eigenvector.\n",
    "    \"\"\"\n",
    "    n, m = matrix.shape\n",
    "    if n != m:\n",
    "        raise ValueError(\"The input matrix must be square.\")\n",
    "\n",
    "    # Random initialization of the vector (normalized)\n",
    "    b_k = np.random.rand(n)\n",
    "    b_k = b_k / np.linalg.norm(b_k)\n",
    "\n",
    "    previous_eigenvalue = 0\n",
    "\n",
    "    for _ in range(num_iterations):\n",
    "        # Matrix-vector multiplication\n",
    "        b_k1 = np.dot(matrix, b_k)\n",
    "        \n",
    "        # Normalize the result to find the next eigenvector approximation\n",
    "        b_k1_norm = np.linalg.norm(b_k1)\n",
    "        b_k = b_k1 / b_k1_norm\n",
    "        \n",
    "        # Calculate the Rayleigh quotient as an eigenvalue approximation\n",
    "        eigenvalue = np.dot(b_k.T, np.dot(matrix, b_k))\n",
    "\n",
    "        # Check for convergence\n",
    "        if abs(eigenvalue - previous_eigenvalue) < tolerance:\n",
    "            break\n",
    "        previous_eigenvalue = eigenvalue\n",
    "\n",
    "    return eigenvalue, b_k\n",
    "\n",
    "# Example Usage\n",
    "A = np.array([[4, 1], \n",
    "              [2, 3]])  # A 2x2 matrix\n",
    "\n",
    "# Compute dominant eigenvalue and eigenvector\n",
    "eigenvalue, eigenvector = compute_eigenvalue_and_eigenvector(A)\n",
    "\n",
    "print(\"Matrix A:\")\n",
    "print(A)\n",
    "print(\"\\nDominant Eigenvalue:\", eigenvalue)\n",
    "print(\"Corresponding Eigenvector:\", eigenvector)\n",
    "\n",
    "# Verify the result (A * eigenvector ≈ eigenvalue * eigenvector)\n",
    "verification = np.dot(A, eigenvector) - eigenvalue * eigenvector\n",
    "print(\"\\nVerification (A * eigenvector - eigenvalue * eigenvector):\")\n",
    "print(verification)\n"
   ]
  },
  {
   "cell_type": "code",
   "execution_count": null,
   "id": "363c50dc-d825-42b3-a7c5-0b4b1d5f5237",
   "metadata": {},
   "outputs": [],
   "source": []
  }
 ],
 "metadata": {
  "kernelspec": {
   "display_name": "Python 3 (ipykernel)",
   "language": "python",
   "name": "python3"
  },
  "language_info": {
   "codemirror_mode": {
    "name": "ipython",
    "version": 3
   },
   "file_extension": ".py",
   "mimetype": "text/x-python",
   "name": "python",
   "nbconvert_exporter": "python",
   "pygments_lexer": "ipython3",
   "version": "3.12.4"
  }
 },
 "nbformat": 4,
 "nbformat_minor": 5
}
