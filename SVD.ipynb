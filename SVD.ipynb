{
 "cells": [
  {
   "cell_type": "code",
   "execution_count": 4,
   "id": "db78d53a-ec37-4e7b-9141-8bac23c2d667",
   "metadata": {},
   "outputs": [],
   "source": [
    "import numpy as np\n",
    "import matplotlib.pyplot as plt"
   ]
  },
  {
   "cell_type": "code",
   "execution_count": 5,
   "id": "55401dff-c9b4-4eaa-91f7-b9e9e2f89254",
   "metadata": {},
   "outputs": [
    {
     "name": "stdout",
     "output_type": "stream",
     "text": [
      "Original Matrix A:\n",
      "[[102 179  92  14 106]\n",
      " [ 71 188  20 102 121]\n",
      " [210 214  74 202  87]\n",
      " [116  99 103 151 130]\n",
      " [149  52   1  87 235]]\n"
     ]
    }
   ],
   "source": [
    "# 1. Generate a sample matrix (image-like data)\n",
    "np.random.seed(42)\n",
    "A = np.random.randint(0, 255, (5, 5))  # A 5x5 matrix\n",
    "print(\"Original Matrix A:\")\n",
    "print(A)"
   ]
  },
  {
   "cell_type": "code",
   "execution_count": 6,
   "id": "ef1c3dbb-eda7-4e29-b100-b8ffb81dd729",
   "metadata": {},
   "outputs": [],
   "source": [
    "# 2. Step-by-step SVD Implementation\n",
    "\n",
    "# Step 1: Compute A^T * A and A * A^T\n",
    "ATA = np.dot(A.T, A)\n",
    "AAT = np.dot(A, A.T)\n",
    "\n",
    "# Step 2: Compute eigenvalues and eigenvectors\n",
    "eigvals_ATA, eigvecs_ATA = np.linalg.eig(ATA)\n",
    "eigvals_AAT, eigvecs_AAT = np.linalg.eig(AAT)\n",
    "\n",
    "# Step 3: Sort eigenvalues and corresponding eigenvectors\n",
    "sorted_indices_ATA = np.argsort(eigvals_ATA)[::-1]\n",
    "eigvals_ATA = eigvals_ATA[sorted_indices_ATA]\n",
    "eigvecs_ATA = eigvecs_ATA[:, sorted_indices_ATA]\n",
    "\n",
    "sorted_indices_AAT = np.argsort(eigvals_AAT)[::-1]\n",
    "eigvals_AAT = eigvals_AAT[sorted_indices_AAT]\n",
    "eigvecs_AAT = eigvecs_AAT[:, sorted_indices_AAT]\n",
    "\n",
    "# Step 4: Compute singular values\n",
    "singular_values = np.sqrt(eigvals_ATA)\n",
    "S = np.zeros_like(A, dtype=float)\n",
    "np.fill_diagonal(S, singular_values[:min(A.shape)])\n",
    "\n",
    "# Step 5: Compute U and V matrices\n",
    "U = eigvecs_AAT\n",
    "V_T = eigvecs_ATA.T\n",
    "\n",
    "# Step 6: Reconstruct the original matrix\n",
    "A_reconstructed = np.dot(U, np.dot(S, V_T))\n"
   ]
  },
  {
   "cell_type": "code",
   "execution_count": 7,
   "id": "8dee70f9-88f3-456f-b6bd-40dd610707d1",
   "metadata": {},
   "outputs": [
    {
     "name": "stdout",
     "output_type": "stream",
     "text": [
      "\n",
      "U Matrix:\n",
      "[[-0.36575986 -0.21054808 -0.74625928 -0.4507606   0.24859848]\n",
      " [-0.39808745 -0.1354396  -0.33956637  0.66225601 -0.51893559]\n",
      " [-0.59700903 -0.42620975  0.47135408  0.15863516  0.46323394]\n",
      " [-0.42627905  0.06667577  0.32382474 -0.56544489 -0.62389913]\n",
      " [-0.41184037  0.86673249 -0.0274707   0.11549381  0.25508594]]\n"
     ]
    }
   ],
   "source": [
    "print(\"\\nU Matrix:\")\n",
    "print(U)"
   ]
  },
  {
   "cell_type": "code",
   "execution_count": 8,
   "id": "667db299-16b7-4c04-a053-1d0d2bdc5d27",
   "metadata": {},
   "outputs": [
    {
     "name": "stdout",
     "output_type": "stream",
     "text": [
      "\n",
      "S Matrix:\n",
      "[[611.36033647   0.           0.           0.           0.        ]\n",
      " [  0.         178.51377423   0.           0.           0.        ]\n",
      " [  0.           0.         129.1164005    0.           0.        ]\n",
      " [  0.           0.           0.          82.81451499   0.        ]\n",
      " [  0.           0.           0.           0.          63.4435389 ]]\n"
     ]
    }
   ],
   "source": [
    "print(\"\\nS Matrix:\")\n",
    "print(S)"
   ]
  },
  {
   "cell_type": "code",
   "execution_count": 9,
   "id": "84abfeb2-4597-4517-b766-5386e71bf289",
   "metadata": {},
   "outputs": [
    {
     "name": "stdout",
     "output_type": "stream",
     "text": [
      "\n",
      "V_T Matrix:\n",
      "[[-0.49358157 -0.54254209 -0.21281869 -0.43594525 -0.47611475]\n",
      " [-0.09120511  0.57524214  0.25703563  0.09737688 -0.76500231]\n",
      " [ 0.24959829 -0.51053889 -0.05607732  0.74845417 -0.33722756]\n",
      " [-0.16937912  0.33559988 -0.9009433   0.21674402 -0.00257416]\n",
      " [ 0.81059871 -0.03830565 -0.27165675 -0.43966791 -0.27268508]]\n"
     ]
    }
   ],
   "source": [
    "print(\"\\nV_T Matrix:\")\n",
    "print(V_T)\n"
   ]
  },
  {
   "cell_type": "code",
   "execution_count": 10,
   "id": "0c948998-c178-44ee-b0a7-5e19eb79a15c",
   "metadata": {},
   "outputs": [
    {
     "name": "stdout",
     "output_type": "stream",
     "text": [
      "\n",
      "Reconstructed Matrix A:\n",
      "[[108.8560215  135.75820605  72.67825571   6.68003773 163.50634335]\n",
      " [ 75.41028409 160.18378096   7.57087016  97.29127598 157.9921989 ]\n",
      " [223.87855557 126.46619627  34.88724316 187.18229512 203.40934643]\n",
      " [113.82885459 112.69368848 109.1187551  153.31806486 111.78905453]\n",
      " [120.77681838 230.0071729   80.53900063 117.1330188   -1.7279585 ]]\n"
     ]
    }
   ],
   "source": [
    "print(\"\\nReconstructed Matrix A:\")\n",
    "print(A_reconstructed)\n"
   ]
  },
  {
   "cell_type": "code",
   "execution_count": 11,
   "id": "25b6613b-ee57-40f1-bcf2-9616fe1d7908",
   "metadata": {},
   "outputs": [
    {
     "data": {
      "image/png": "[encoded data removed]",
      "text/plain": [
       "<Figure size 640x480 with 4 Axes>"
      ]
     },
     "metadata": {},
     "output_type": "display_data"
    }
   ],
   "source": [
    "# 3. Visualize the original and reconstructed matrices\n",
    "plt.subplot(1, 2, 1)\n",
    "plt.imshow(A, cmap='gray')\n",
    "plt.title(\"Original Matrix\")\n",
    "plt.colorbar()\n",
    "\n",
    "plt.subplot(1, 2, 2)\n",
    "plt.imshow(A_reconstructed, cmap='gray')\n",
    "plt.title(\"Reconstructed Matrix\")\n",
    "plt.colorbar()\n",
    "\n",
    "plt.show()\n"
   ]
  },
  {
   "cell_type": "code",
   "execution_count": null,
   "id": "530d0c95-1f82-4971-af4e-2c944b16f186",
   "metadata": {},
   "outputs": [],
   "source": []
  }
 ],
 "metadata": {
  "kernelspec": {
   "display_name": "Python 3 (ipykernel)",
   "language": "python",
   "name": "python3"
  },
  "language_info": {
   "codemirror_mode": {
    "name": "ipython",
    "version": 3
   },
   "file_extension": ".py",
   "mimetype": "text/x-python",
   "name": "python",
   "nbconvert_exporter": "python",
   "pygments_lexer": "ipython3",
   "version": "3.12.4"
  }
 },
 "nbformat": 4,
 "nbformat_minor": 5
}
